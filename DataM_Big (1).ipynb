{
  "nbformat": 4,
  "nbformat_minor": 0,
  "metadata": {
    "colab": {
      "name": "DataM_Big.ipynb",
      "provenance": [],
      "collapsed_sections": [],
      "toc_visible": true
    },
    "kernelspec": {
      "name": "python3",
      "display_name": "Python 3"
    },
    "accelerator": "GPU"
  },
  "cells": [
    {
      "cell_type": "markdown",
      "metadata": {
        "id": "8cjyMsNNsNx-"
      },
      "source": [
        "# Import the necessary libraries"
      ]
    },
    {
      "cell_type": "code",
      "metadata": {
        "id": "4B8lFmTWoUmI"
      },
      "source": [
        "import pandas as pd\r\n",
        "import numpy as np\r\n",
        "import matplotlib.pyplot as plt"
      ],
      "execution_count": null,
      "outputs": []
    },
    {
      "cell_type": "code",
      "metadata": {
        "id": "VX7siNCdF5Tm"
      },
      "source": [
        "from sklearn.preprocessing import StandardScaler, MinMaxScaler\r\n",
        "from sklearn.model_selection import train_test_split\r\n",
        "from sklearn.ensemble import RandomForestRegressor"
      ],
      "execution_count": null,
      "outputs": []
    },
    {
      "cell_type": "code",
      "metadata": {
        "id": "vbt7n1U8Gakl"
      },
      "source": [
        "import tensorflow as tf\r\n",
        "import keras"
      ],
      "execution_count": null,
      "outputs": []
    },
    {
      "cell_type": "markdown",
      "metadata": {
        "id": "gHsYQ38GsTj_"
      },
      "source": [
        "#Load the dataset"
      ]
    },
    {
      "cell_type": "code",
      "metadata": {
        "colab": {
          "base_uri": "https://localhost:8080/"
        },
        "id": "neKZ2ncez5Ty",
        "outputId": "6183e9f1-99f6-424b-fd27-b7e0d968e912"
      },
      "source": [
        "from google.colab import drive\r\n",
        "drive.mount('/content/drive')"
      ],
      "execution_count": null,
      "outputs": [
        {
          "output_type": "stream",
          "text": [
            "Drive already mounted at /content/drive; to attempt to forcibly remount, call drive.mount(\"/content/drive\", force_remount=True).\n"
          ],
          "name": "stdout"
        }
      ]
    },
    {
      "cell_type": "code",
      "metadata": {
        "id": "Hj_n0fLmplSd"
      },
      "source": [
        "df = pd.read_csv('drive/MyDrive/Colab Notebooks/cars.csv',encoding = \"ISO-8859-1\")"
      ],
      "execution_count": null,
      "outputs": []
    },
    {
      "cell_type": "code",
      "metadata": {
        "id": "KOAWxejwug8B"
      },
      "source": [
        "#The last layer is completely missing\r\n",
        "df.drop(index = len(df)-1, axis = 0, inplace = True)\r\n",
        "# These features can't be filled\r\n",
        "del_col = ['gearbox','name','postalCode','seller']\r\n",
        "\r\n",
        "df.drop(del_col,axis=1,inplace= True)"
      ],
      "execution_count": null,
      "outputs": []
    },
    {
      "cell_type": "code",
      "metadata": {
        "colab": {
          "base_uri": "https://localhost:8080/",
          "height": 394
        },
        "id": "g-CX-xIpCPIa",
        "outputId": "440f1db0-c896-4c2a-8e6d-535e7268e431"
      },
      "source": [
        "df.head()"
      ],
      "execution_count": null,
      "outputs": [
        {
          "output_type": "execute_result",
          "data": {
            "text/html": [
              "<div>\n",
              "<style scoped>\n",
              "    .dataframe tbody tr th:only-of-type {\n",
              "        vertical-align: middle;\n",
              "    }\n",
              "\n",
              "    .dataframe tbody tr th {\n",
              "        vertical-align: top;\n",
              "    }\n",
              "\n",
              "    .dataframe thead th {\n",
              "        text-align: right;\n",
              "    }\n",
              "</style>\n",
              "<table border=\"1\" class=\"dataframe\">\n",
              "  <thead>\n",
              "    <tr style=\"text-align: right;\">\n",
              "      <th></th>\n",
              "      <th>dateCrawled</th>\n",
              "      <th>offerType</th>\n",
              "      <th>price</th>\n",
              "      <th>abtest</th>\n",
              "      <th>vehicleType</th>\n",
              "      <th>yearOfRegistration</th>\n",
              "      <th>powerPS</th>\n",
              "      <th>model</th>\n",
              "      <th>kilometer</th>\n",
              "      <th>monthOfRegistration</th>\n",
              "      <th>fuelType</th>\n",
              "      <th>brand</th>\n",
              "      <th>notRepairedDamage</th>\n",
              "      <th>dateCreated</th>\n",
              "      <th>nrOfPictures</th>\n",
              "      <th>lastSeen</th>\n",
              "    </tr>\n",
              "  </thead>\n",
              "  <tbody>\n",
              "    <tr>\n",
              "      <th>0</th>\n",
              "      <td>2016-03-24 11:52:17</td>\n",
              "      <td>Angebot</td>\n",
              "      <td>480</td>\n",
              "      <td>test</td>\n",
              "      <td>NaN</td>\n",
              "      <td>1993</td>\n",
              "      <td>0</td>\n",
              "      <td>golf</td>\n",
              "      <td>150000</td>\n",
              "      <td>0</td>\n",
              "      <td>benzin</td>\n",
              "      <td>volkswagen</td>\n",
              "      <td>NaN</td>\n",
              "      <td>2016-03-24 00:00:00</td>\n",
              "      <td>0</td>\n",
              "      <td>2016-04-07 03:16:57</td>\n",
              "    </tr>\n",
              "    <tr>\n",
              "      <th>1</th>\n",
              "      <td>2016-03-24 10:58:45</td>\n",
              "      <td>Angebot</td>\n",
              "      <td>18300</td>\n",
              "      <td>test</td>\n",
              "      <td>coupe</td>\n",
              "      <td>2011</td>\n",
              "      <td>190</td>\n",
              "      <td>NaN</td>\n",
              "      <td>125000</td>\n",
              "      <td>5</td>\n",
              "      <td>diesel</td>\n",
              "      <td>audi</td>\n",
              "      <td>ja</td>\n",
              "      <td>2016-03-24 00:00:00</td>\n",
              "      <td>0</td>\n",
              "      <td>2016-04-07 01:46:50</td>\n",
              "    </tr>\n",
              "    <tr>\n",
              "      <th>2</th>\n",
              "      <td>2016-03-14 12:52:21</td>\n",
              "      <td>Angebot</td>\n",
              "      <td>9800</td>\n",
              "      <td>test</td>\n",
              "      <td>suv</td>\n",
              "      <td>2004</td>\n",
              "      <td>163</td>\n",
              "      <td>grand</td>\n",
              "      <td>125000</td>\n",
              "      <td>8</td>\n",
              "      <td>diesel</td>\n",
              "      <td>jeep</td>\n",
              "      <td>NaN</td>\n",
              "      <td>2016-03-14 00:00:00</td>\n",
              "      <td>0</td>\n",
              "      <td>2016-04-05 12:47:46</td>\n",
              "    </tr>\n",
              "    <tr>\n",
              "      <th>3</th>\n",
              "      <td>2016-03-17 16:54:04</td>\n",
              "      <td>Angebot</td>\n",
              "      <td>1500</td>\n",
              "      <td>test</td>\n",
              "      <td>kleinwagen</td>\n",
              "      <td>2001</td>\n",
              "      <td>75</td>\n",
              "      <td>golf</td>\n",
              "      <td>150000</td>\n",
              "      <td>6</td>\n",
              "      <td>benzin</td>\n",
              "      <td>volkswagen</td>\n",
              "      <td>nein</td>\n",
              "      <td>2016-03-17 00:00:00</td>\n",
              "      <td>0</td>\n",
              "      <td>2016-03-17 17:40:17</td>\n",
              "    </tr>\n",
              "    <tr>\n",
              "      <th>4</th>\n",
              "      <td>2016-03-31 17:25:20</td>\n",
              "      <td>Angebot</td>\n",
              "      <td>3600</td>\n",
              "      <td>test</td>\n",
              "      <td>kleinwagen</td>\n",
              "      <td>2008</td>\n",
              "      <td>69</td>\n",
              "      <td>fabia</td>\n",
              "      <td>90000</td>\n",
              "      <td>7</td>\n",
              "      <td>diesel</td>\n",
              "      <td>skoda</td>\n",
              "      <td>nein</td>\n",
              "      <td>2016-03-31 00:00:00</td>\n",
              "      <td>0</td>\n",
              "      <td>2016-04-06 10:17:21</td>\n",
              "    </tr>\n",
              "  </tbody>\n",
              "</table>\n",
              "</div>"
            ],
            "text/plain": [
              "           dateCrawled offerType  ...  nrOfPictures             lastSeen\n",
              "0  2016-03-24 11:52:17   Angebot  ...             0  2016-04-07 03:16:57\n",
              "1  2016-03-24 10:58:45   Angebot  ...             0  2016-04-07 01:46:50\n",
              "2  2016-03-14 12:52:21   Angebot  ...             0  2016-04-05 12:47:46\n",
              "3  2016-03-17 16:54:04   Angebot  ...             0  2016-03-17 17:40:17\n",
              "4  2016-03-31 17:25:20   Angebot  ...             0  2016-04-06 10:17:21\n",
              "\n",
              "[5 rows x 16 columns]"
            ]
          },
          "metadata": {
            "tags": []
          },
          "execution_count": 7
        }
      ]
    },
    {
      "cell_type": "markdown",
      "metadata": {
        "id": "YsHDE4kIsZyq"
      },
      "source": [
        "# Fill missing values"
      ]
    },
    {
      "cell_type": "code",
      "metadata": {
        "id": "-Rle8Ln6zD4H"
      },
      "source": [
        "df.notRepairedDamage.fillna('ja',inplace= True)"
      ],
      "execution_count": null,
      "outputs": []
    },
    {
      "cell_type": "code",
      "metadata": {
        "id": "86bN8IpbxEyO"
      },
      "source": [
        "for f in df.columns:\r\n",
        "  if(len(df[f].unique()) == 2):\r\n",
        "    u1,u2 = df[f].unique()\r\n",
        "    df[f] = df[f].map({u1:1,u2:0})"
      ],
      "execution_count": null,
      "outputs": []
    },
    {
      "cell_type": "code",
      "metadata": {
        "id": "P__q_zcuxs7_"
      },
      "source": [
        "df = df[ df.vehicleType.notna()]\r\n",
        "df = df[df.model.notna()]\r\n",
        "df = df[df.fuelType.notna()]"
      ],
      "execution_count": null,
      "outputs": []
    },
    {
      "cell_type": "code",
      "metadata": {
        "id": "VphLX1DA81zZ"
      },
      "source": [
        "df = df[df.price != 0 ]"
      ],
      "execution_count": null,
      "outputs": []
    },
    {
      "cell_type": "code",
      "metadata": {
        "colab": {
          "base_uri": "https://localhost:8080/"
        },
        "id": "Xml2FZyct5-O",
        "outputId": "855152ac-305f-4d8e-cf01-e2199fd0447f"
      },
      "source": [
        "df.isna().sum()"
      ],
      "execution_count": null,
      "outputs": [
        {
          "output_type": "execute_result",
          "data": {
            "text/plain": [
              "dateCrawled            0\n",
              "offerType              0\n",
              "price                  0\n",
              "abtest                 0\n",
              "vehicleType            0\n",
              "yearOfRegistration     0\n",
              "powerPS                0\n",
              "model                  0\n",
              "kilometer              0\n",
              "monthOfRegistration    0\n",
              "fuelType               0\n",
              "brand                  0\n",
              "notRepairedDamage      0\n",
              "dateCreated            0\n",
              "nrOfPictures           0\n",
              "lastSeen               0\n",
              "dtype: int64"
            ]
          },
          "metadata": {
            "tags": []
          },
          "execution_count": 11
        }
      ]
    },
    {
      "cell_type": "markdown",
      "metadata": {
        "id": "iZa3Bs3e_Ixo"
      },
      "source": [
        "# Scale and convert feature values"
      ]
    },
    {
      "cell_type": "markdown",
      "metadata": {
        "id": "Bsbg8vB36eMZ"
      },
      "source": [
        "## Convert non-numeric values to numeric"
      ]
    },
    {
      "cell_type": "markdown",
      "metadata": {
        "id": "j-_rJOyn6mqe"
      },
      "source": [
        "## Convert time to float"
      ]
    },
    {
      "cell_type": "code",
      "metadata": {
        "id": "YBqLOP5q0gJZ"
      },
      "source": [
        "min_norm = -1\r\n",
        "max_norm =1\r\n",
        "t_cols = ['dateCrawled','dateCreated','lastSeen']"
      ],
      "execution_count": null,
      "outputs": []
    },
    {
      "cell_type": "code",
      "metadata": {
        "id": "ZqAwNf3h6tna"
      },
      "source": [
        "for c in t_cols:\r\n",
        "  y_max = max(pd.to_datetime(df[c],yearfirst=True))\r\n",
        "  y_min = min(pd.to_datetime(df[c],yearfirst=True))\r\n",
        "  df[c] = df[c].map(lambda x:(pd.to_datetime(x)- y_min) *(max_norm - min_norm) / (y_max-y_min) + min_norm)"
      ],
      "execution_count": null,
      "outputs": []
    },
    {
      "cell_type": "code",
      "metadata": {
        "colab": {
          "base_uri": "https://localhost:8080/",
          "height": 224
        },
        "id": "AG5Lf03a639Z",
        "outputId": "ca629c4e-c641-4217-8e49-6fe859d0d347"
      },
      "source": [
        "df.head()"
      ],
      "execution_count": null,
      "outputs": [
        {
          "output_type": "execute_result",
          "data": {
            "text/html": [
              "<div>\n",
              "<style scoped>\n",
              "    .dataframe tbody tr th:only-of-type {\n",
              "        vertical-align: middle;\n",
              "    }\n",
              "\n",
              "    .dataframe tbody tr th {\n",
              "        vertical-align: top;\n",
              "    }\n",
              "\n",
              "    .dataframe thead th {\n",
              "        text-align: right;\n",
              "    }\n",
              "</style>\n",
              "<table border=\"1\" class=\"dataframe\">\n",
              "  <thead>\n",
              "    <tr style=\"text-align: right;\">\n",
              "      <th></th>\n",
              "      <th>dateCrawled</th>\n",
              "      <th>offerType</th>\n",
              "      <th>price</th>\n",
              "      <th>abtest</th>\n",
              "      <th>vehicleType</th>\n",
              "      <th>yearOfRegistration</th>\n",
              "      <th>powerPS</th>\n",
              "      <th>model</th>\n",
              "      <th>kilometer</th>\n",
              "      <th>monthOfRegistration</th>\n",
              "      <th>fuelType</th>\n",
              "      <th>brand</th>\n",
              "      <th>notRepairedDamage</th>\n",
              "      <th>dateCreated</th>\n",
              "      <th>nrOfPictures</th>\n",
              "      <th>lastSeen</th>\n",
              "    </tr>\n",
              "  </thead>\n",
              "  <tbody>\n",
              "    <tr>\n",
              "      <th>2</th>\n",
              "      <td>-0.458010</td>\n",
              "      <td>1</td>\n",
              "      <td>9800</td>\n",
              "      <td>1</td>\n",
              "      <td>suv</td>\n",
              "      <td>2004</td>\n",
              "      <td>163</td>\n",
              "      <td>grand</td>\n",
              "      <td>125000</td>\n",
              "      <td>8</td>\n",
              "      <td>diesel</td>\n",
              "      <td>jeep</td>\n",
              "      <td>1</td>\n",
              "      <td>0.875000</td>\n",
              "      <td>0</td>\n",
              "      <td>0.873387</td>\n",
              "    </tr>\n",
              "    <tr>\n",
              "      <th>3</th>\n",
              "      <td>-0.266142</td>\n",
              "      <td>1</td>\n",
              "      <td>1500</td>\n",
              "      <td>1</td>\n",
              "      <td>kleinwagen</td>\n",
              "      <td>2001</td>\n",
              "      <td>75</td>\n",
              "      <td>golf</td>\n",
              "      <td>150000</td>\n",
              "      <td>6</td>\n",
              "      <td>benzin</td>\n",
              "      <td>volkswagen</td>\n",
              "      <td>0</td>\n",
              "      <td>0.890625</td>\n",
              "      <td>0</td>\n",
              "      <td>-0.264773</td>\n",
              "    </tr>\n",
              "    <tr>\n",
              "      <th>4</th>\n",
              "      <td>0.583112</td>\n",
              "      <td>1</td>\n",
              "      <td>3600</td>\n",
              "      <td>1</td>\n",
              "      <td>kleinwagen</td>\n",
              "      <td>2008</td>\n",
              "      <td>69</td>\n",
              "      <td>fabia</td>\n",
              "      <td>90000</td>\n",
              "      <td>7</td>\n",
              "      <td>diesel</td>\n",
              "      <td>skoda</td>\n",
              "      <td>0</td>\n",
              "      <td>0.963542</td>\n",
              "      <td>0</td>\n",
              "      <td>0.927613</td>\n",
              "    </tr>\n",
              "    <tr>\n",
              "      <th>5</th>\n",
              "      <td>0.825845</td>\n",
              "      <td>1</td>\n",
              "      <td>650</td>\n",
              "      <td>1</td>\n",
              "      <td>limousine</td>\n",
              "      <td>1995</td>\n",
              "      <td>102</td>\n",
              "      <td>3er</td>\n",
              "      <td>150000</td>\n",
              "      <td>10</td>\n",
              "      <td>benzin</td>\n",
              "      <td>bmw</td>\n",
              "      <td>1</td>\n",
              "      <td>0.984375</td>\n",
              "      <td>0</td>\n",
              "      <td>0.950309</td>\n",
              "    </tr>\n",
              "    <tr>\n",
              "      <th>6</th>\n",
              "      <td>0.652239</td>\n",
              "      <td>1</td>\n",
              "      <td>2200</td>\n",
              "      <td>1</td>\n",
              "      <td>cabrio</td>\n",
              "      <td>2004</td>\n",
              "      <td>109</td>\n",
              "      <td>2_reihe</td>\n",
              "      <td>150000</td>\n",
              "      <td>8</td>\n",
              "      <td>benzin</td>\n",
              "      <td>peugeot</td>\n",
              "      <td>0</td>\n",
              "      <td>0.968750</td>\n",
              "      <td>0</td>\n",
              "      <td>0.887300</td>\n",
              "    </tr>\n",
              "  </tbody>\n",
              "</table>\n",
              "</div>"
            ],
            "text/plain": [
              "   dateCrawled  offerType  price  ...  dateCreated nrOfPictures  lastSeen\n",
              "2    -0.458010          1   9800  ...     0.875000            0  0.873387\n",
              "3    -0.266142          1   1500  ...     0.890625            0 -0.264773\n",
              "4     0.583112          1   3600  ...     0.963542            0  0.927613\n",
              "5     0.825845          1    650  ...     0.984375            0  0.950309\n",
              "6     0.652239          1   2200  ...     0.968750            0  0.887300\n",
              "\n",
              "[5 rows x 16 columns]"
            ]
          },
          "metadata": {
            "tags": []
          },
          "execution_count": 15
        }
      ]
    },
    {
      "cell_type": "code",
      "metadata": {
        "colab": {
          "base_uri": "https://localhost:8080/",
          "height": 323
        },
        "id": "hcQeKbNB6lYh",
        "outputId": "5057494a-1acf-42a8-a7f6-6ff88f6fe06a"
      },
      "source": [
        "to_oneH = ['abtest','vehicleType','model','fuelType','brand']\r\n",
        "df = pd.get_dummies(df[to_oneH])"
      ],
      "execution_count": null,
      "outputs": [
        {
          "output_type": "error",
          "ename": "KeyError",
          "evalue": "ignored",
          "traceback": [
            "\u001b[0;31m---------------------------------------------------------------------------\u001b[0m",
            "\u001b[0;31mKeyError\u001b[0m                                  Traceback (most recent call last)",
            "\u001b[0;32m<ipython-input-23-a6c2c3201720>\u001b[0m in \u001b[0;36m<module>\u001b[0;34m()\u001b[0m\n\u001b[1;32m      1\u001b[0m \u001b[0mto_oneH\u001b[0m \u001b[0;34m=\u001b[0m \u001b[0;34m[\u001b[0m\u001b[0;34m'abtest'\u001b[0m\u001b[0;34m,\u001b[0m\u001b[0;34m'vehicleType'\u001b[0m\u001b[0;34m,\u001b[0m\u001b[0;34m'model'\u001b[0m\u001b[0;34m,\u001b[0m\u001b[0;34m'fuelType'\u001b[0m\u001b[0;34m,\u001b[0m\u001b[0;34m'brand'\u001b[0m\u001b[0;34m]\u001b[0m\u001b[0;34m\u001b[0m\u001b[0;34m\u001b[0m\u001b[0m\n\u001b[0;32m----> 2\u001b[0;31m \u001b[0mdf\u001b[0m \u001b[0;34m=\u001b[0m \u001b[0mpd\u001b[0m\u001b[0;34m.\u001b[0m\u001b[0mget_dummies\u001b[0m\u001b[0;34m(\u001b[0m\u001b[0mdf\u001b[0m\u001b[0;34m[\u001b[0m\u001b[0mto_oneH\u001b[0m\u001b[0;34m]\u001b[0m\u001b[0;34m)\u001b[0m\u001b[0;34m\u001b[0m\u001b[0;34m\u001b[0m\u001b[0m\n\u001b[0m",
            "\u001b[0;32m/usr/local/lib/python3.6/dist-packages/pandas/core/frame.py\u001b[0m in \u001b[0;36m__getitem__\u001b[0;34m(self, key)\u001b[0m\n\u001b[1;32m   2910\u001b[0m             \u001b[0;32mif\u001b[0m \u001b[0mis_iterator\u001b[0m\u001b[0;34m(\u001b[0m\u001b[0mkey\u001b[0m\u001b[0;34m)\u001b[0m\u001b[0;34m:\u001b[0m\u001b[0;34m\u001b[0m\u001b[0;34m\u001b[0m\u001b[0m\n\u001b[1;32m   2911\u001b[0m                 \u001b[0mkey\u001b[0m \u001b[0;34m=\u001b[0m \u001b[0mlist\u001b[0m\u001b[0;34m(\u001b[0m\u001b[0mkey\u001b[0m\u001b[0;34m)\u001b[0m\u001b[0;34m\u001b[0m\u001b[0;34m\u001b[0m\u001b[0m\n\u001b[0;32m-> 2912\u001b[0;31m             \u001b[0mindexer\u001b[0m \u001b[0;34m=\u001b[0m \u001b[0mself\u001b[0m\u001b[0;34m.\u001b[0m\u001b[0mloc\u001b[0m\u001b[0;34m.\u001b[0m\u001b[0m_get_listlike_indexer\u001b[0m\u001b[0;34m(\u001b[0m\u001b[0mkey\u001b[0m\u001b[0;34m,\u001b[0m \u001b[0maxis\u001b[0m\u001b[0;34m=\u001b[0m\u001b[0;36m1\u001b[0m\u001b[0;34m,\u001b[0m \u001b[0mraise_missing\u001b[0m\u001b[0;34m=\u001b[0m\u001b[0;32mTrue\u001b[0m\u001b[0;34m)\u001b[0m\u001b[0;34m[\u001b[0m\u001b[0;36m1\u001b[0m\u001b[0;34m]\u001b[0m\u001b[0;34m\u001b[0m\u001b[0;34m\u001b[0m\u001b[0m\n\u001b[0m\u001b[1;32m   2913\u001b[0m \u001b[0;34m\u001b[0m\u001b[0m\n\u001b[1;32m   2914\u001b[0m         \u001b[0;31m# take() does not accept boolean indexers\u001b[0m\u001b[0;34m\u001b[0m\u001b[0;34m\u001b[0m\u001b[0;34m\u001b[0m\u001b[0m\n",
            "\u001b[0;32m/usr/local/lib/python3.6/dist-packages/pandas/core/indexing.py\u001b[0m in \u001b[0;36m_get_listlike_indexer\u001b[0;34m(self, key, axis, raise_missing)\u001b[0m\n\u001b[1;32m   1252\u001b[0m             \u001b[0mkeyarr\u001b[0m\u001b[0;34m,\u001b[0m \u001b[0mindexer\u001b[0m\u001b[0;34m,\u001b[0m \u001b[0mnew_indexer\u001b[0m \u001b[0;34m=\u001b[0m \u001b[0max\u001b[0m\u001b[0;34m.\u001b[0m\u001b[0m_reindex_non_unique\u001b[0m\u001b[0;34m(\u001b[0m\u001b[0mkeyarr\u001b[0m\u001b[0;34m)\u001b[0m\u001b[0;34m\u001b[0m\u001b[0;34m\u001b[0m\u001b[0m\n\u001b[1;32m   1253\u001b[0m \u001b[0;34m\u001b[0m\u001b[0m\n\u001b[0;32m-> 1254\u001b[0;31m         \u001b[0mself\u001b[0m\u001b[0;34m.\u001b[0m\u001b[0m_validate_read_indexer\u001b[0m\u001b[0;34m(\u001b[0m\u001b[0mkeyarr\u001b[0m\u001b[0;34m,\u001b[0m \u001b[0mindexer\u001b[0m\u001b[0;34m,\u001b[0m \u001b[0maxis\u001b[0m\u001b[0;34m,\u001b[0m \u001b[0mraise_missing\u001b[0m\u001b[0;34m=\u001b[0m\u001b[0mraise_missing\u001b[0m\u001b[0;34m)\u001b[0m\u001b[0;34m\u001b[0m\u001b[0;34m\u001b[0m\u001b[0m\n\u001b[0m\u001b[1;32m   1255\u001b[0m         \u001b[0;32mreturn\u001b[0m \u001b[0mkeyarr\u001b[0m\u001b[0;34m,\u001b[0m \u001b[0mindexer\u001b[0m\u001b[0;34m\u001b[0m\u001b[0;34m\u001b[0m\u001b[0m\n\u001b[1;32m   1256\u001b[0m \u001b[0;34m\u001b[0m\u001b[0m\n",
            "\u001b[0;32m/usr/local/lib/python3.6/dist-packages/pandas/core/indexing.py\u001b[0m in \u001b[0;36m_validate_read_indexer\u001b[0;34m(self, key, indexer, axis, raise_missing)\u001b[0m\n\u001b[1;32m   1302\u001b[0m             \u001b[0;32mif\u001b[0m \u001b[0mraise_missing\u001b[0m\u001b[0;34m:\u001b[0m\u001b[0;34m\u001b[0m\u001b[0;34m\u001b[0m\u001b[0m\n\u001b[1;32m   1303\u001b[0m                 \u001b[0mnot_found\u001b[0m \u001b[0;34m=\u001b[0m \u001b[0mlist\u001b[0m\u001b[0;34m(\u001b[0m\u001b[0mset\u001b[0m\u001b[0;34m(\u001b[0m\u001b[0mkey\u001b[0m\u001b[0;34m)\u001b[0m \u001b[0;34m-\u001b[0m \u001b[0mset\u001b[0m\u001b[0;34m(\u001b[0m\u001b[0max\u001b[0m\u001b[0;34m)\u001b[0m\u001b[0;34m)\u001b[0m\u001b[0;34m\u001b[0m\u001b[0;34m\u001b[0m\u001b[0m\n\u001b[0;32m-> 1304\u001b[0;31m                 \u001b[0;32mraise\u001b[0m \u001b[0mKeyError\u001b[0m\u001b[0;34m(\u001b[0m\u001b[0;34mf\"{not_found} not in index\"\u001b[0m\u001b[0;34m)\u001b[0m\u001b[0;34m\u001b[0m\u001b[0;34m\u001b[0m\u001b[0m\n\u001b[0m\u001b[1;32m   1305\u001b[0m \u001b[0;34m\u001b[0m\u001b[0m\n\u001b[1;32m   1306\u001b[0m             \u001b[0;31m# we skip the warning on Categorical\u001b[0m\u001b[0;34m\u001b[0m\u001b[0;34m\u001b[0m\u001b[0;34m\u001b[0m\u001b[0m\n",
            "\u001b[0;31mKeyError\u001b[0m: \"['vehicleType', 'model', 'fuelType', 'brand'] not in index\""
          ]
        }
      ]
    },
    {
      "cell_type": "code",
      "metadata": {
        "colab": {
          "base_uri": "https://localhost:8080/",
          "height": 253
        },
        "id": "NopvwH5815HD",
        "outputId": "a1f6a6ab-7501-43de-98ef-ba8f0b9b4cb1"
      },
      "source": [
        "df.head()"
      ],
      "execution_count": null,
      "outputs": [
        {
          "output_type": "execute_result",
          "data": {
            "text/html": [
              "<div>\n",
              "<style scoped>\n",
              "    .dataframe tbody tr th:only-of-type {\n",
              "        vertical-align: middle;\n",
              "    }\n",
              "\n",
              "    .dataframe tbody tr th {\n",
              "        vertical-align: top;\n",
              "    }\n",
              "\n",
              "    .dataframe thead th {\n",
              "        text-align: right;\n",
              "    }\n",
              "</style>\n",
              "<table border=\"1\" class=\"dataframe\">\n",
              "  <thead>\n",
              "    <tr style=\"text-align: right;\">\n",
              "      <th></th>\n",
              "      <th>offerType</th>\n",
              "      <th>abtest</th>\n",
              "      <th>vehicleType_andere</th>\n",
              "      <th>vehicleType_bus</th>\n",
              "      <th>vehicleType_cabrio</th>\n",
              "      <th>vehicleType_coupe</th>\n",
              "      <th>vehicleType_kleinwagen</th>\n",
              "      <th>vehicleType_kombi</th>\n",
              "      <th>vehicleType_limousine</th>\n",
              "      <th>vehicleType_suv</th>\n",
              "      <th>model_100</th>\n",
              "      <th>model_145</th>\n",
              "      <th>model_147</th>\n",
              "      <th>model_156</th>\n",
              "      <th>model_159</th>\n",
              "      <th>model_1_reihe</th>\n",
              "      <th>model_1er</th>\n",
              "      <th>model_200</th>\n",
              "      <th>model_2_reihe</th>\n",
              "      <th>model_300c</th>\n",
              "      <th>model_3_reihe</th>\n",
              "      <th>model_3er</th>\n",
              "      <th>model_4_reihe</th>\n",
              "      <th>model_500</th>\n",
              "      <th>model_5_reihe</th>\n",
              "      <th>model_5er</th>\n",
              "      <th>model_601</th>\n",
              "      <th>model_6_reihe</th>\n",
              "      <th>model_6er</th>\n",
              "      <th>model_7er</th>\n",
              "      <th>model_80</th>\n",
              "      <th>model_850</th>\n",
              "      <th>model_90</th>\n",
              "      <th>model_900</th>\n",
              "      <th>model_9000</th>\n",
              "      <th>model_911</th>\n",
              "      <th>model_a1</th>\n",
              "      <th>model_a2</th>\n",
              "      <th>model_a3</th>\n",
              "      <th>model_a4</th>\n",
              "      <th>...</th>\n",
              "      <th>fuelType_lpg</th>\n",
              "      <th>brand_alfa_romeo</th>\n",
              "      <th>brand_audi</th>\n",
              "      <th>brand_bmw</th>\n",
              "      <th>brand_chevrolet</th>\n",
              "      <th>brand_chrysler</th>\n",
              "      <th>brand_citroen</th>\n",
              "      <th>brand_dacia</th>\n",
              "      <th>brand_daewoo</th>\n",
              "      <th>brand_daihatsu</th>\n",
              "      <th>brand_fiat</th>\n",
              "      <th>brand_ford</th>\n",
              "      <th>brand_honda</th>\n",
              "      <th>brand_hyundai</th>\n",
              "      <th>brand_jaguar</th>\n",
              "      <th>brand_jeep</th>\n",
              "      <th>brand_kia</th>\n",
              "      <th>brand_lada</th>\n",
              "      <th>brand_lancia</th>\n",
              "      <th>brand_land_rover</th>\n",
              "      <th>brand_mazda</th>\n",
              "      <th>brand_mercedes_benz</th>\n",
              "      <th>brand_mini</th>\n",
              "      <th>brand_mitsubishi</th>\n",
              "      <th>brand_nissan</th>\n",
              "      <th>brand_opel</th>\n",
              "      <th>brand_peugeot</th>\n",
              "      <th>brand_porsche</th>\n",
              "      <th>brand_renault</th>\n",
              "      <th>brand_rover</th>\n",
              "      <th>brand_saab</th>\n",
              "      <th>brand_seat</th>\n",
              "      <th>brand_skoda</th>\n",
              "      <th>brand_smart</th>\n",
              "      <th>brand_subaru</th>\n",
              "      <th>brand_suzuki</th>\n",
              "      <th>brand_toyota</th>\n",
              "      <th>brand_trabant</th>\n",
              "      <th>brand_volkswagen</th>\n",
              "      <th>brand_volvo</th>\n",
              "    </tr>\n",
              "  </thead>\n",
              "  <tbody>\n",
              "    <tr>\n",
              "      <th>2</th>\n",
              "      <td>1</td>\n",
              "      <td>1</td>\n",
              "      <td>0</td>\n",
              "      <td>0</td>\n",
              "      <td>0</td>\n",
              "      <td>0</td>\n",
              "      <td>0</td>\n",
              "      <td>0</td>\n",
              "      <td>0</td>\n",
              "      <td>1</td>\n",
              "      <td>0</td>\n",
              "      <td>0</td>\n",
              "      <td>0</td>\n",
              "      <td>0</td>\n",
              "      <td>0</td>\n",
              "      <td>0</td>\n",
              "      <td>0</td>\n",
              "      <td>0</td>\n",
              "      <td>0</td>\n",
              "      <td>0</td>\n",
              "      <td>0</td>\n",
              "      <td>0</td>\n",
              "      <td>0</td>\n",
              "      <td>0</td>\n",
              "      <td>0</td>\n",
              "      <td>0</td>\n",
              "      <td>0</td>\n",
              "      <td>0</td>\n",
              "      <td>0</td>\n",
              "      <td>0</td>\n",
              "      <td>0</td>\n",
              "      <td>0</td>\n",
              "      <td>0</td>\n",
              "      <td>0</td>\n",
              "      <td>0</td>\n",
              "      <td>0</td>\n",
              "      <td>0</td>\n",
              "      <td>0</td>\n",
              "      <td>0</td>\n",
              "      <td>0</td>\n",
              "      <td>...</td>\n",
              "      <td>0</td>\n",
              "      <td>0</td>\n",
              "      <td>0</td>\n",
              "      <td>0</td>\n",
              "      <td>0</td>\n",
              "      <td>0</td>\n",
              "      <td>0</td>\n",
              "      <td>0</td>\n",
              "      <td>0</td>\n",
              "      <td>0</td>\n",
              "      <td>0</td>\n",
              "      <td>0</td>\n",
              "      <td>0</td>\n",
              "      <td>0</td>\n",
              "      <td>0</td>\n",
              "      <td>1</td>\n",
              "      <td>0</td>\n",
              "      <td>0</td>\n",
              "      <td>0</td>\n",
              "      <td>0</td>\n",
              "      <td>0</td>\n",
              "      <td>0</td>\n",
              "      <td>0</td>\n",
              "      <td>0</td>\n",
              "      <td>0</td>\n",
              "      <td>0</td>\n",
              "      <td>0</td>\n",
              "      <td>0</td>\n",
              "      <td>0</td>\n",
              "      <td>0</td>\n",
              "      <td>0</td>\n",
              "      <td>0</td>\n",
              "      <td>0</td>\n",
              "      <td>0</td>\n",
              "      <td>0</td>\n",
              "      <td>0</td>\n",
              "      <td>0</td>\n",
              "      <td>0</td>\n",
              "      <td>0</td>\n",
              "      <td>0</td>\n",
              "    </tr>\n",
              "    <tr>\n",
              "      <th>3</th>\n",
              "      <td>1</td>\n",
              "      <td>1</td>\n",
              "      <td>0</td>\n",
              "      <td>0</td>\n",
              "      <td>0</td>\n",
              "      <td>0</td>\n",
              "      <td>1</td>\n",
              "      <td>0</td>\n",
              "      <td>0</td>\n",
              "      <td>0</td>\n",
              "      <td>0</td>\n",
              "      <td>0</td>\n",
              "      <td>0</td>\n",
              "      <td>0</td>\n",
              "      <td>0</td>\n",
              "      <td>0</td>\n",
              "      <td>0</td>\n",
              "      <td>0</td>\n",
              "      <td>0</td>\n",
              "      <td>0</td>\n",
              "      <td>0</td>\n",
              "      <td>0</td>\n",
              "      <td>0</td>\n",
              "      <td>0</td>\n",
              "      <td>0</td>\n",
              "      <td>0</td>\n",
              "      <td>0</td>\n",
              "      <td>0</td>\n",
              "      <td>0</td>\n",
              "      <td>0</td>\n",
              "      <td>0</td>\n",
              "      <td>0</td>\n",
              "      <td>0</td>\n",
              "      <td>0</td>\n",
              "      <td>0</td>\n",
              "      <td>0</td>\n",
              "      <td>0</td>\n",
              "      <td>0</td>\n",
              "      <td>0</td>\n",
              "      <td>0</td>\n",
              "      <td>...</td>\n",
              "      <td>0</td>\n",
              "      <td>0</td>\n",
              "      <td>0</td>\n",
              "      <td>0</td>\n",
              "      <td>0</td>\n",
              "      <td>0</td>\n",
              "      <td>0</td>\n",
              "      <td>0</td>\n",
              "      <td>0</td>\n",
              "      <td>0</td>\n",
              "      <td>0</td>\n",
              "      <td>0</td>\n",
              "      <td>0</td>\n",
              "      <td>0</td>\n",
              "      <td>0</td>\n",
              "      <td>0</td>\n",
              "      <td>0</td>\n",
              "      <td>0</td>\n",
              "      <td>0</td>\n",
              "      <td>0</td>\n",
              "      <td>0</td>\n",
              "      <td>0</td>\n",
              "      <td>0</td>\n",
              "      <td>0</td>\n",
              "      <td>0</td>\n",
              "      <td>0</td>\n",
              "      <td>0</td>\n",
              "      <td>0</td>\n",
              "      <td>0</td>\n",
              "      <td>0</td>\n",
              "      <td>0</td>\n",
              "      <td>0</td>\n",
              "      <td>0</td>\n",
              "      <td>0</td>\n",
              "      <td>0</td>\n",
              "      <td>0</td>\n",
              "      <td>0</td>\n",
              "      <td>0</td>\n",
              "      <td>1</td>\n",
              "      <td>0</td>\n",
              "    </tr>\n",
              "    <tr>\n",
              "      <th>4</th>\n",
              "      <td>1</td>\n",
              "      <td>1</td>\n",
              "      <td>0</td>\n",
              "      <td>0</td>\n",
              "      <td>0</td>\n",
              "      <td>0</td>\n",
              "      <td>1</td>\n",
              "      <td>0</td>\n",
              "      <td>0</td>\n",
              "      <td>0</td>\n",
              "      <td>0</td>\n",
              "      <td>0</td>\n",
              "      <td>0</td>\n",
              "      <td>0</td>\n",
              "      <td>0</td>\n",
              "      <td>0</td>\n",
              "      <td>0</td>\n",
              "      <td>0</td>\n",
              "      <td>0</td>\n",
              "      <td>0</td>\n",
              "      <td>0</td>\n",
              "      <td>0</td>\n",
              "      <td>0</td>\n",
              "      <td>0</td>\n",
              "      <td>0</td>\n",
              "      <td>0</td>\n",
              "      <td>0</td>\n",
              "      <td>0</td>\n",
              "      <td>0</td>\n",
              "      <td>0</td>\n",
              "      <td>0</td>\n",
              "      <td>0</td>\n",
              "      <td>0</td>\n",
              "      <td>0</td>\n",
              "      <td>0</td>\n",
              "      <td>0</td>\n",
              "      <td>0</td>\n",
              "      <td>0</td>\n",
              "      <td>0</td>\n",
              "      <td>0</td>\n",
              "      <td>...</td>\n",
              "      <td>0</td>\n",
              "      <td>0</td>\n",
              "      <td>0</td>\n",
              "      <td>0</td>\n",
              "      <td>0</td>\n",
              "      <td>0</td>\n",
              "      <td>0</td>\n",
              "      <td>0</td>\n",
              "      <td>0</td>\n",
              "      <td>0</td>\n",
              "      <td>0</td>\n",
              "      <td>0</td>\n",
              "      <td>0</td>\n",
              "      <td>0</td>\n",
              "      <td>0</td>\n",
              "      <td>0</td>\n",
              "      <td>0</td>\n",
              "      <td>0</td>\n",
              "      <td>0</td>\n",
              "      <td>0</td>\n",
              "      <td>0</td>\n",
              "      <td>0</td>\n",
              "      <td>0</td>\n",
              "      <td>0</td>\n",
              "      <td>0</td>\n",
              "      <td>0</td>\n",
              "      <td>0</td>\n",
              "      <td>0</td>\n",
              "      <td>0</td>\n",
              "      <td>0</td>\n",
              "      <td>0</td>\n",
              "      <td>0</td>\n",
              "      <td>1</td>\n",
              "      <td>0</td>\n",
              "      <td>0</td>\n",
              "      <td>0</td>\n",
              "      <td>0</td>\n",
              "      <td>0</td>\n",
              "      <td>0</td>\n",
              "      <td>0</td>\n",
              "    </tr>\n",
              "    <tr>\n",
              "      <th>5</th>\n",
              "      <td>1</td>\n",
              "      <td>1</td>\n",
              "      <td>0</td>\n",
              "      <td>0</td>\n",
              "      <td>0</td>\n",
              "      <td>0</td>\n",
              "      <td>0</td>\n",
              "      <td>0</td>\n",
              "      <td>1</td>\n",
              "      <td>0</td>\n",
              "      <td>0</td>\n",
              "      <td>0</td>\n",
              "      <td>0</td>\n",
              "      <td>0</td>\n",
              "      <td>0</td>\n",
              "      <td>0</td>\n",
              "      <td>0</td>\n",
              "      <td>0</td>\n",
              "      <td>0</td>\n",
              "      <td>0</td>\n",
              "      <td>0</td>\n",
              "      <td>1</td>\n",
              "      <td>0</td>\n",
              "      <td>0</td>\n",
              "      <td>0</td>\n",
              "      <td>0</td>\n",
              "      <td>0</td>\n",
              "      <td>0</td>\n",
              "      <td>0</td>\n",
              "      <td>0</td>\n",
              "      <td>0</td>\n",
              "      <td>0</td>\n",
              "      <td>0</td>\n",
              "      <td>0</td>\n",
              "      <td>0</td>\n",
              "      <td>0</td>\n",
              "      <td>0</td>\n",
              "      <td>0</td>\n",
              "      <td>0</td>\n",
              "      <td>0</td>\n",
              "      <td>...</td>\n",
              "      <td>0</td>\n",
              "      <td>0</td>\n",
              "      <td>0</td>\n",
              "      <td>1</td>\n",
              "      <td>0</td>\n",
              "      <td>0</td>\n",
              "      <td>0</td>\n",
              "      <td>0</td>\n",
              "      <td>0</td>\n",
              "      <td>0</td>\n",
              "      <td>0</td>\n",
              "      <td>0</td>\n",
              "      <td>0</td>\n",
              "      <td>0</td>\n",
              "      <td>0</td>\n",
              "      <td>0</td>\n",
              "      <td>0</td>\n",
              "      <td>0</td>\n",
              "      <td>0</td>\n",
              "      <td>0</td>\n",
              "      <td>0</td>\n",
              "      <td>0</td>\n",
              "      <td>0</td>\n",
              "      <td>0</td>\n",
              "      <td>0</td>\n",
              "      <td>0</td>\n",
              "      <td>0</td>\n",
              "      <td>0</td>\n",
              "      <td>0</td>\n",
              "      <td>0</td>\n",
              "      <td>0</td>\n",
              "      <td>0</td>\n",
              "      <td>0</td>\n",
              "      <td>0</td>\n",
              "      <td>0</td>\n",
              "      <td>0</td>\n",
              "      <td>0</td>\n",
              "      <td>0</td>\n",
              "      <td>0</td>\n",
              "      <td>0</td>\n",
              "    </tr>\n",
              "    <tr>\n",
              "      <th>6</th>\n",
              "      <td>1</td>\n",
              "      <td>1</td>\n",
              "      <td>0</td>\n",
              "      <td>0</td>\n",
              "      <td>1</td>\n",
              "      <td>0</td>\n",
              "      <td>0</td>\n",
              "      <td>0</td>\n",
              "      <td>0</td>\n",
              "      <td>0</td>\n",
              "      <td>0</td>\n",
              "      <td>0</td>\n",
              "      <td>0</td>\n",
              "      <td>0</td>\n",
              "      <td>0</td>\n",
              "      <td>0</td>\n",
              "      <td>0</td>\n",
              "      <td>0</td>\n",
              "      <td>1</td>\n",
              "      <td>0</td>\n",
              "      <td>0</td>\n",
              "      <td>0</td>\n",
              "      <td>0</td>\n",
              "      <td>0</td>\n",
              "      <td>0</td>\n",
              "      <td>0</td>\n",
              "      <td>0</td>\n",
              "      <td>0</td>\n",
              "      <td>0</td>\n",
              "      <td>0</td>\n",
              "      <td>0</td>\n",
              "      <td>0</td>\n",
              "      <td>0</td>\n",
              "      <td>0</td>\n",
              "      <td>0</td>\n",
              "      <td>0</td>\n",
              "      <td>0</td>\n",
              "      <td>0</td>\n",
              "      <td>0</td>\n",
              "      <td>0</td>\n",
              "      <td>...</td>\n",
              "      <td>0</td>\n",
              "      <td>0</td>\n",
              "      <td>0</td>\n",
              "      <td>0</td>\n",
              "      <td>0</td>\n",
              "      <td>0</td>\n",
              "      <td>0</td>\n",
              "      <td>0</td>\n",
              "      <td>0</td>\n",
              "      <td>0</td>\n",
              "      <td>0</td>\n",
              "      <td>0</td>\n",
              "      <td>0</td>\n",
              "      <td>0</td>\n",
              "      <td>0</td>\n",
              "      <td>0</td>\n",
              "      <td>0</td>\n",
              "      <td>0</td>\n",
              "      <td>0</td>\n",
              "      <td>0</td>\n",
              "      <td>0</td>\n",
              "      <td>0</td>\n",
              "      <td>0</td>\n",
              "      <td>0</td>\n",
              "      <td>0</td>\n",
              "      <td>0</td>\n",
              "      <td>1</td>\n",
              "      <td>0</td>\n",
              "      <td>0</td>\n",
              "      <td>0</td>\n",
              "      <td>0</td>\n",
              "      <td>0</td>\n",
              "      <td>0</td>\n",
              "      <td>0</td>\n",
              "      <td>0</td>\n",
              "      <td>0</td>\n",
              "      <td>0</td>\n",
              "      <td>0</td>\n",
              "      <td>0</td>\n",
              "      <td>0</td>\n",
              "    </tr>\n",
              "  </tbody>\n",
              "</table>\n",
              "<p>5 rows × 307 columns</p>\n",
              "</div>"
            ],
            "text/plain": [
              "   offerType  abtest  ...  brand_volkswagen  brand_volvo\n",
              "2          1       1  ...                 0            0\n",
              "3          1       1  ...                 1            0\n",
              "4          1       1  ...                 0            0\n",
              "5          1       1  ...                 0            0\n",
              "6          1       1  ...                 0            0\n",
              "\n",
              "[5 rows x 307 columns]"
            ]
          },
          "metadata": {
            "tags": []
          },
          "execution_count": 25
        }
      ]
    },
    {
      "cell_type": "code",
      "metadata": {
        "id": "vtEz2BoPDfdA"
      },
      "source": [
        "scl = MinMaxScaler()\r\n",
        "scl.fit(df)\r\n",
        "data = scl.transform(df)"
      ],
      "execution_count": null,
      "outputs": []
    },
    {
      "cell_type": "code",
      "metadata": {
        "id": "Vc9s1Xx6ysAJ"
      },
      "source": [
        "y = data[:,3]\r\n",
        "x = np.delete(data,3,axis=1)"
      ],
      "execution_count": null,
      "outputs": []
    },
    {
      "cell_type": "markdown",
      "metadata": {
        "id": "LayBXuST_GTE"
      },
      "source": [
        "# Creating the train, test split"
      ]
    },
    {
      "cell_type": "code",
      "metadata": {
        "id": "oYI0vf6_817h"
      },
      "source": [
        "x_train, x_test, y_train, y_test = train_test_split(x,y, test_size=0.3,random_state = 42)"
      ],
      "execution_count": null,
      "outputs": []
    },
    {
      "cell_type": "code",
      "metadata": {
        "id": "t4v9n69698V7"
      },
      "source": [
        "x_valid, x_test,y_valid ,y_test = train_test_split(x_test,y_test,test_size =0.5,random_state = 47 )"
      ],
      "execution_count": null,
      "outputs": []
    },
    {
      "cell_type": "markdown",
      "metadata": {
        "id": "81fPiYVJAgWf"
      },
      "source": [
        "# Creating model"
      ]
    },
    {
      "cell_type": "code",
      "metadata": {
        "id": "HJBoaOxdADlP"
      },
      "source": [
        "model = tf.keras.models.Sequential([\r\n",
        "                                    \r\n",
        "          tf.keras.layers.Dense(16,input_shape=(306,) ,name='Input_layer'),\r\n",
        "          tf.keras.layers.Dense(32,name='Dense2'),\r\n",
        "          tf.keras.layers.Dense(64,name=\"Dense3\"),\r\n",
        "          tf.keras.layers.Dropout(0.4),\r\n",
        "          tf.keras.layers.Dense(128,name='Dense4'),\r\n",
        "          tf.keras.layers.Dense(64,name='Dense5'),\r\n",
        "          tf.keras.layers.Dropout(0.4),\r\n",
        "          tf.keras.layers.Dense(32,name='Dense6'),\r\n",
        "          tf.keras.layers.Dense(16,name='Dense7'),\r\n",
        "\r\n",
        "          tf.keras.layers.Dense(1,activation='relu',name = 'last_layer')\r\n",
        "])"
      ],
      "execution_count": null,
      "outputs": []
    },
    {
      "cell_type": "code",
      "metadata": {
        "id": "TI4USF5kAFSy"
      },
      "source": [
        "model.compile(optimizer=tf.keras.optimizers.Adam(),loss=tf.keras.losses.mean_squared_error)"
      ],
      "execution_count": null,
      "outputs": []
    },
    {
      "cell_type": "code",
      "metadata": {
        "colab": {
          "base_uri": "https://localhost:8080/"
        },
        "id": "4_ehc7nsIXAR",
        "outputId": "868796e9-dbf3-4105-86c0-2edff0750026"
      },
      "source": [
        "history = model.fit(x_train,y_train,batch_size=10000,epochs=50,validation_data=(x_valid,y_valid))"
      ],
      "execution_count": null,
      "outputs": [
        {
          "output_type": "stream",
          "text": [
            "Epoch 1/50\n",
            "22/22 [==============================] - 0s 17ms/step - loss: 0.0782 - val_loss: 0.0429\n",
            "Epoch 2/50\n",
            "22/22 [==============================] - 0s 12ms/step - loss: 0.0270 - val_loss: 0.0088\n",
            "Epoch 3/50\n",
            "22/22 [==============================] - 0s 12ms/step - loss: 0.0095 - val_loss: 0.0044\n",
            "Epoch 4/50\n",
            "22/22 [==============================] - 0s 12ms/step - loss: 0.0051 - val_loss: 9.8719e-04\n",
            "Epoch 5/50\n",
            "22/22 [==============================] - 0s 12ms/step - loss: 0.0026 - val_loss: 4.4058e-04\n",
            "Epoch 6/50\n",
            "22/22 [==============================] - 0s 12ms/step - loss: 0.0019 - val_loss: 3.1960e-04\n",
            "Epoch 7/50\n",
            "22/22 [==============================] - 0s 12ms/step - loss: 0.0015 - val_loss: 2.2847e-04\n",
            "Epoch 8/50\n",
            "22/22 [==============================] - 0s 11ms/step - loss: 0.0013 - val_loss: 1.9166e-04\n",
            "Epoch 9/50\n",
            "22/22 [==============================] - 0s 12ms/step - loss: 0.0011 - val_loss: 1.6367e-04\n",
            "Epoch 10/50\n",
            "22/22 [==============================] - 0s 11ms/step - loss: 9.2145e-04 - val_loss: 1.4008e-04\n",
            "Epoch 11/50\n",
            "22/22 [==============================] - 0s 11ms/step - loss: 7.8325e-04 - val_loss: 1.1834e-04\n",
            "Epoch 12/50\n",
            "22/22 [==============================] - 0s 11ms/step - loss: 6.7997e-04 - val_loss: 1.1361e-04\n",
            "Epoch 13/50\n",
            "22/22 [==============================] - 0s 12ms/step - loss: 6.0618e-04 - val_loss: 1.3482e-04\n",
            "Epoch 14/50\n",
            "22/22 [==============================] - 0s 12ms/step - loss: 5.0984e-04 - val_loss: 1.0696e-04\n",
            "Epoch 15/50\n",
            "22/22 [==============================] - 0s 11ms/step - loss: 4.5592e-04 - val_loss: 1.0503e-04\n",
            "Epoch 16/50\n",
            "22/22 [==============================] - 0s 12ms/step - loss: 4.0450e-04 - val_loss: 1.0614e-04\n",
            "Epoch 17/50\n",
            "22/22 [==============================] - 0s 11ms/step - loss: 3.4159e-04 - val_loss: 9.9572e-05\n",
            "Epoch 18/50\n",
            "22/22 [==============================] - 0s 12ms/step - loss: 2.9722e-04 - val_loss: 1.0064e-04\n",
            "Epoch 19/50\n",
            "22/22 [==============================] - 0s 11ms/step - loss: 2.6618e-04 - val_loss: 1.0086e-04\n",
            "Epoch 20/50\n",
            "22/22 [==============================] - 0s 11ms/step - loss: 2.3339e-04 - val_loss: 9.7419e-05\n",
            "Epoch 21/50\n",
            "22/22 [==============================] - 0s 12ms/step - loss: 2.1212e-04 - val_loss: 9.6564e-05\n",
            "Epoch 22/50\n",
            "22/22 [==============================] - 0s 11ms/step - loss: 1.8514e-04 - val_loss: 7.3475e-05\n",
            "Epoch 23/50\n",
            "22/22 [==============================] - 0s 11ms/step - loss: 1.6656e-04 - val_loss: 8.7592e-05\n",
            "Epoch 24/50\n",
            "22/22 [==============================] - 0s 12ms/step - loss: 1.5035e-04 - val_loss: 7.4946e-05\n",
            "Epoch 25/50\n",
            "22/22 [==============================] - 0s 12ms/step - loss: 1.3902e-04 - val_loss: 7.1278e-05\n",
            "Epoch 26/50\n",
            "22/22 [==============================] - 0s 11ms/step - loss: 1.2515e-04 - val_loss: 7.1188e-05\n",
            "Epoch 27/50\n",
            "22/22 [==============================] - 0s 12ms/step - loss: 1.1092e-04 - val_loss: 7.0919e-05\n",
            "Epoch 28/50\n",
            "22/22 [==============================] - 0s 12ms/step - loss: 9.9991e-05 - val_loss: 7.5460e-05\n",
            "Epoch 29/50\n",
            "22/22 [==============================] - 0s 11ms/step - loss: 9.2058e-05 - val_loss: 6.7866e-05\n",
            "Epoch 30/50\n",
            "22/22 [==============================] - 0s 12ms/step - loss: 8.6474e-05 - val_loss: 6.8619e-05\n",
            "Epoch 31/50\n",
            "22/22 [==============================] - 0s 12ms/step - loss: 8.3717e-05 - val_loss: 7.3668e-05\n",
            "Epoch 32/50\n",
            "22/22 [==============================] - 0s 12ms/step - loss: 8.0974e-05 - val_loss: 6.7888e-05\n",
            "Epoch 33/50\n",
            "22/22 [==============================] - 0s 12ms/step - loss: 7.2001e-05 - val_loss: 6.8851e-05\n",
            "Epoch 34/50\n",
            "22/22 [==============================] - 0s 11ms/step - loss: 6.6348e-05 - val_loss: 6.8102e-05\n",
            "Epoch 35/50\n",
            "22/22 [==============================] - 0s 12ms/step - loss: 6.3571e-05 - val_loss: 6.8374e-05\n",
            "Epoch 36/50\n",
            "22/22 [==============================] - 0s 11ms/step - loss: 5.7402e-05 - val_loss: 6.5666e-05\n",
            "Epoch 37/50\n",
            "22/22 [==============================] - 0s 11ms/step - loss: 5.8075e-05 - val_loss: 6.8064e-05\n",
            "Epoch 38/50\n",
            "22/22 [==============================] - 0s 11ms/step - loss: 5.2362e-05 - val_loss: 6.8664e-05\n",
            "Epoch 39/50\n",
            "22/22 [==============================] - 0s 12ms/step - loss: 5.1118e-05 - val_loss: 6.2416e-05\n",
            "Epoch 40/50\n",
            "22/22 [==============================] - 0s 11ms/step - loss: 4.6916e-05 - val_loss: 6.9708e-05\n",
            "Epoch 41/50\n",
            "22/22 [==============================] - 0s 12ms/step - loss: 4.8083e-05 - val_loss: 6.2443e-05\n",
            "Epoch 42/50\n",
            "22/22 [==============================] - 0s 12ms/step - loss: 4.2255e-05 - val_loss: 7.0708e-05\n",
            "Epoch 43/50\n",
            "22/22 [==============================] - 0s 12ms/step - loss: 4.1807e-05 - val_loss: 6.6902e-05\n",
            "Epoch 44/50\n",
            "22/22 [==============================] - 0s 11ms/step - loss: 4.3447e-05 - val_loss: 6.8005e-05\n",
            "Epoch 45/50\n",
            "22/22 [==============================] - 0s 12ms/step - loss: 3.9402e-05 - val_loss: 6.5845e-05\n",
            "Epoch 46/50\n",
            "22/22 [==============================] - 0s 11ms/step - loss: 3.6997e-05 - val_loss: 6.7886e-05\n",
            "Epoch 47/50\n",
            "22/22 [==============================] - 0s 12ms/step - loss: 3.1438e-05 - val_loss: 6.2227e-05\n",
            "Epoch 48/50\n",
            "22/22 [==============================] - 0s 11ms/step - loss: 3.2421e-05 - val_loss: 6.8294e-05\n",
            "Epoch 49/50\n",
            "22/22 [==============================] - 0s 12ms/step - loss: 3.1956e-05 - val_loss: 7.0778e-05\n",
            "Epoch 50/50\n",
            "22/22 [==============================] - 0s 11ms/step - loss: 3.0120e-05 - val_loss: 6.8374e-05\n"
          ],
          "name": "stdout"
        }
      ]
    },
    {
      "cell_type": "code",
      "metadata": {
        "colab": {
          "base_uri": "https://localhost:8080/",
          "height": 653
        },
        "id": "P8UcU8viIs6j",
        "outputId": "18c2bbc6-aefa-43c7-8d94-3e4b824bdfbf"
      },
      "source": [
        "plt.figure(figsize=(10,10))\r\n",
        "plt.plot(history.history['loss'])\r\n",
        "plt.plot(history.history['val_loss'])\r\n",
        "plt.title('model loss',fontsize=20)\r\n",
        "plt.ylabel('loss',fontsize = 20)\r\n",
        "plt.xlabel('epoch',fontsize=20)\r\n",
        "plt.legend(['train', 'validation'], loc='upper left')\r\n",
        "plt.grid()\r\n",
        "plt.show()\r\n",
        "plt.savefig('loss.png')"
      ],
      "execution_count": null,
      "outputs": [
        {
          "output_type": "display_data",
          "data": {
            "image/png": "[encoded data removed]",
            "text/plain": [
              "<Figure size 720x720 with 1 Axes>"
            ]
          },
          "metadata": {
            "tags": [],
            "needs_background": "light"
          }
        },
        {
          "output_type": "display_data",
          "data": {
            "text/plain": [
              "<Figure size 432x288 with 0 Axes>"
            ]
          },
          "metadata": {
            "tags": []
          }
        }
      ]
    },
    {
      "cell_type": "code",
      "metadata": {
        "id": "XheAXbw9DBUW"
      },
      "source": [
        "model.save('car.h5')"
      ],
      "execution_count": null,
      "outputs": []
    },
    {
      "cell_type": "code",
      "metadata": {
        "id": "EWcgrLclI7Ni"
      },
      "source": [
        "a = model.predict(x_test)"
      ],
      "execution_count": null,
      "outputs": []
    },
    {
      "cell_type": "code",
      "metadata": {
        "id": "SjoyXlynARAY"
      },
      "source": [
        "match = 0\r\n",
        "for ref,res in zip(y_test,a):\r\n",
        "  if abs(ref-res) < 0.01:\r\n",
        "    match += 1"
      ],
      "execution_count": null,
      "outputs": []
    },
    {
      "cell_type": "code",
      "metadata": {
        "colab": {
          "base_uri": "https://localhost:8080/"
        },
        "id": "1naLtzMvAZ7g",
        "outputId": "09d3ef23-6a95-4149-82e2-9f7101859ff2"
      },
      "source": [
        "match"
      ],
      "execution_count": null,
      "outputs": [
        {
          "output_type": "execute_result",
          "data": {
            "text/plain": [
              "45108"
            ]
          },
          "metadata": {
            "tags": []
          },
          "execution_count": 96
        }
      ]
    },
    {
      "cell_type": "code",
      "metadata": {
        "colab": {
          "base_uri": "https://localhost:8080/"
        },
        "id": "fGOYkcHIBAiY",
        "outputId": "2e7aeab5-e325-4e1a-af9e-7b0145ba10fc"
      },
      "source": [
        "len(y_test)"
      ],
      "execution_count": null,
      "outputs": [
        {
          "output_type": "execute_result",
          "data": {
            "text/plain": [
              "45274"
            ]
          },
          "metadata": {
            "tags": []
          },
          "execution_count": 100
        }
      ]
    },
    {
      "cell_type": "code",
      "metadata": {
        "colab": {
          "base_uri": "https://localhost:8080/"
        },
        "id": "9XqWl2CPysCo",
        "outputId": "e2564e3a-ad8e-4298-fefb-afeb9f86825c"
      },
      "source": [
        "clf = RandomForestRegressor(n_jobs=-1)\r\n",
        "clf.fit(x,y)"
      ],
      "execution_count": null,
      "outputs": [
        {
          "output_type": "execute_result",
          "data": {
            "text/plain": [
              "RandomForestRegressor(bootstrap=True, ccp_alpha=0.0, criterion='mse',\n",
              "                      max_depth=None, max_features='auto', max_leaf_nodes=None,\n",
              "                      max_samples=None, min_impurity_decrease=0.0,\n",
              "                      min_impurity_split=None, min_samples_leaf=1,\n",
              "                      min_samples_split=2, min_weight_fraction_leaf=0.0,\n",
              "                      n_estimators=100, n_jobs=-1, oob_score=False,\n",
              "                      random_state=None, verbose=0, warm_start=False)"
            ]
          },
          "metadata": {
            "tags": []
          },
          "execution_count": 109
        }
      ]
    },
    {
      "cell_type": "code",
      "metadata": {
        "id": "WTPYY10ZCh1b"
      },
      "source": [
        ""
      ],
      "execution_count": null,
      "outputs": []
    },
    {
      "cell_type": "code",
      "metadata": {
        "id": "_RbpliIOCi0Q"
      },
      "source": [
        ""
      ],
      "execution_count": null,
      "outputs": []
    }
  ]
}